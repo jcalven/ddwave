{
 "cells": [
  {
   "cell_type": "code",
   "execution_count": 1,
   "metadata": {
    "collapsed": true
   },
   "outputs": [],
   "source": [
    "%load_ext autoreload\n",
    "%autoreload 2\n",
    "\n",
    "%matplotlib inline\n",
    "import sys\n",
    "import os.path\n",
    "import matplotlib.pyplot as plt\n",
    "import matplotlib as mpl\n",
    "#mpl.style.use('v2.0')\n",
    "plt.style.use('ggplot')\n",
    "\n",
    "import numpy as np\n",
    "import pandas as pd\n",
    "from tqdm import tqdm\n",
    "\n",
    "#import os, sys\n",
    "sys.path.append(os.path.dirname(\"../\"))\n",
    "sys.path.append(os.path.dirname(\"../../\"))\n",
    "\n",
    "from plugins.FaxDistiller import Distill"
   ]
  },
  {
   "cell_type": "code",
   "execution_count": 2,
   "metadata": {},
   "outputs": [
    {
     "name": "stderr",
     "output_type": "stream",
     "text": [
      "/cfs/klemming/nobackup/b/bobau/ToolBox/TestEnv/Anaconda3/envs/ml_pax/lib/python3.6/importlib/_bootstrap.py:205: RuntimeWarning: compiletime version 3.5 of module 'tensorflow.python.framework.fast_tensor_util' does not match runtime version 3.6\n",
      "  return f(*args, **kwds)\n"
     ]
    }
   ],
   "source": [
    "from mltools.tfrio import TFRecordsIO"
   ]
  },
  {
   "cell_type": "code",
   "execution_count": 3,
   "metadata": {
    "collapsed": true
   },
   "outputs": [],
   "source": [
    "raw_file = \"../data/FakeWaveform_raw/XENON1T-0-000000000-000000999-000001000.zip\"\n",
    "truth_file = \"../data/FakeWaveform_truth.csv\"\n",
    "instructions_file = \"../data/FakeWaveform.csv\"\n",
    "\n",
    "data_path = \"/cfs/klemming/nobackup/j/jcalven/wavenet_data/\""
   ]
  },
  {
   "cell_type": "markdown",
   "metadata": {},
   "source": [
    "### Load FAX raw data and distill down into useful parts"
   ]
  },
  {
   "cell_type": "code",
   "execution_count": 4,
   "metadata": {},
   "outputs": [
    {
     "name": "stderr",
     "output_type": "stream",
     "text": [
      "100%|██████████| 1000/1000 [00:02<00:00, 463.16it/s]\n",
      "100%|██████████| 1000/1000 [00:01<00:00, 737.81it/s]\n"
     ]
    }
   ],
   "source": [
    "distiller = Distill(raw_file, truth_file, instructions_file)\n",
    "distiller.load()"
   ]
  },
  {
   "cell_type": "markdown",
   "metadata": {},
   "source": [
    "### The way to retrieve distilled data"
   ]
  },
  {
   "cell_type": "code",
   "execution_count": null,
   "metadata": {
    "collapsed": true
   },
   "outputs": [],
   "source": [
    "### Distill.get() returns iterator of distilled data for the event (objects of the Condensate() class)\n",
    "event = distiller.get(1).__next__()\n",
    "event.get_event().head()"
   ]
  },
  {
   "cell_type": "code",
   "execution_count": null,
   "metadata": {
    "collapsed": true
   },
   "outputs": [],
   "source": [
    "print(event.__doc__)"
   ]
  },
  {
   "cell_type": "code",
   "execution_count": null,
   "metadata": {
    "collapsed": true
   },
   "outputs": [],
   "source": [
    "def format_event_data(waveforms, instructions):\n",
    "    \n",
    "    return dict(data = waveforms.values.astype(int),\n",
    "                x = instructions[\"x\"].values[0],\n",
    "                y = instructions[\"y\"].values[0],\n",
    "                depth = instructions[\"depth\"].values[0],\n",
    "                s1_photons = instructions[\"s1_photons\"].values[0],\n",
    "                s2_electrons = instructions[\"s2_electrons\"].values[0],\n",
    "                event_number = instructions[\"instruction\"].values[0])"
   ]
  },
  {
   "cell_type": "markdown",
   "metadata": {},
   "source": [
    "### Loop over events and store distilled data for each event"
   ]
  },
  {
   "cell_type": "code",
   "execution_count": null,
   "metadata": {
    "collapsed": true,
    "scrolled": false
   },
   "outputs": [],
   "source": [
    "#events = []\n",
    "#waveforms_in_channels = []\n",
    "#event_truths = []\n",
    "#event_instructions = []\n",
    "\n",
    "save_to_dir = \"/cfs/klemming/nobackup/j/jcalven/wavenet_data/\"\n",
    "fax_file = \"XENON1T-0-000000000-000000999-000001000\"\n",
    "\n",
    "n_events = 1000\n",
    "counter = 1\n",
    "\n",
    "tfr_io = TFRecordsIO()\n",
    "tfr_io.open_tfwriter_stream(filename=data_path + fax_file + \"_{}_events.tfr\".format(n_events))\n",
    "\n",
    "for i, distilled_events in tqdm(enumerate(distiller.get(n_events))):\n",
    "    \n",
    "    #events.append(distilled_events.get_event())  # Retrieve pandas.DataFrame of event information\n",
    "    #waveforms_in_channels.append(distilled_events.get_waveforms_in_channels())  # Retrieve pandas.DataFrame \n",
    "                                                                                # of per channel reconstructed \n",
    "                                                                                # waveforms in the event\n",
    "    #event_truths.append(distilled_events.get_event_truth())  # Retrieve pandas.DataFrame of PAX truth information for event\n",
    "    #event_instructions.append(distilled_events.get_event_instructions())\n",
    "    \n",
    "    waveforms_in_channels = distilled_events.get_waveforms_in_channels()\n",
    "    event_instructions = distilled_events.get_event_instructions()\n",
    "    \n",
    "    # Preprocess the data for feeding to TFRecords\n",
    "    event_data = format_event_data(waveforms_in_channels, event_instructions)\n",
    "    \n",
    "    # Write data to TFRecords files\n",
    "    #tfr_io.write(filename=data_path + \"test_10_events.tfr\", **event_data)\n",
    "    tfr_io.write(**event_data)\n",
    "    \n",
    "    #df = pd.read_pickle(filename)\n",
    "    #key = os.path.basename(filename) # or choose another name\n",
    "    #if i+1%100 == 0 or i == 0:\n",
    "    #    print(\"Writing to hdf file {}...\".format(counter))\n",
    "    #    file_it = 100 * counter\n",
    "    #    output_filename = save_to_dir + fax_file + \"_\" + str(file_it) + \".h5\"\n",
    "    #    counter += 1\n",
    "    #waveforms_in_channels.to_hdf(output_filename, \"waveforms_{}\".format(i))\n",
    "    #event_instructions.to_hdf(output_filename, \"instructions_{}\".format(i))\n",
    "    \n",
    "tfr_io.close_tfwriter_stream()"
   ]
  },
  {
   "cell_type": "code",
   "execution_count": null,
   "metadata": {
    "collapsed": true
   },
   "outputs": [],
   "source": [
    "event_truths[0]"
   ]
  },
  {
   "cell_type": "code",
   "execution_count": null,
   "metadata": {
    "collapsed": true
   },
   "outputs": [],
   "source": [
    "event_instructions[0]"
   ]
  },
  {
   "cell_type": "code",
   "execution_count": null,
   "metadata": {
    "collapsed": true
   },
   "outputs": [],
   "source": [
    "for i in range(5):\n",
    "    waveforms_in_channels[i].to_pickle(\n",
    "        \"/cfs/klemming/nobackup/j/jcalven/wavenet_data/test_{}.pkl\".format(i))"
   ]
  },
  {
   "cell_type": "code",
   "execution_count": null,
   "metadata": {
    "collapsed": true
   },
   "outputs": [],
   "source": [
    "wf_array = waveforms_in_channels[0].values\n",
    "#wf_array = wf_array[15600:15700,:]# 120:130]\n",
    "wf_array_flat = wf_array.flatten()"
   ]
  },
  {
   "cell_type": "code",
   "execution_count": null,
   "metadata": {
    "collapsed": true
   },
   "outputs": [],
   "source": [
    "wf_array.flatten().shape"
   ]
  },
  {
   "cell_type": "code",
   "execution_count": null,
   "metadata": {
    "collapsed": true
   },
   "outputs": [],
   "source": [
    "np.allclose(wf_array, wf_array.reshape(wf_array.shape))"
   ]
  },
  {
   "cell_type": "code",
   "execution_count": null,
   "metadata": {
    "collapsed": true
   },
   "outputs": [],
   "source": [
    "wf_array"
   ]
  },
  {
   "cell_type": "code",
   "execution_count": null,
   "metadata": {
    "collapsed": true
   },
   "outputs": [],
   "source": [
    "wf_array.shape"
   ]
  },
  {
   "cell_type": "code",
   "execution_count": null,
   "metadata": {
    "collapsed": true
   },
   "outputs": [],
   "source": [
    "wf_array.max()"
   ]
  },
  {
   "cell_type": "code",
   "execution_count": null,
   "metadata": {
    "collapsed": true
   },
   "outputs": [],
   "source": [
    "z_min, z_max = wf_array.min(), np.abs(wf_array).max()\n",
    "print(z_min, z_max)\n",
    "\n",
    "fig = plt.figure()#figsize=(20,5))\n",
    "plt.pcolormesh(wf_array, vmin=z_min, vmax=z_max)"
   ]
  },
  {
   "cell_type": "code",
   "execution_count": null,
   "metadata": {
    "collapsed": true
   },
   "outputs": [],
   "source": [
    "# Concat all dataframes\n",
    "#events_concat = pd.concat(events)\n",
    "waveforms_in_channels_concat = pd.concat(waveforms_in_channels)\n",
    "#event_truths_concat = pd.concat(event_truths)\n",
    "\n",
    "#waveforms_in_channels_concat.head()"
   ]
  },
  {
   "cell_type": "code",
   "execution_count": null,
   "metadata": {
    "collapsed": true
   },
   "outputs": [],
   "source": [
    "### Plot of waveforms for each pmt summed up\n",
    "\n",
    "sum_waveforms = waveforms_in_channels[0].drop(\"event_number\", axis=1).sum(axis=1)\n",
    "\n",
    "fig = plt.figure(figsize=(14,6))\n",
    "ax = plt.subplot(111)\n",
    "p1 = ax.plot(sum_waveforms.index, sum_waveforms)\n",
    "ax.set_xlabel(\"Time [ns]\", size=14)\n",
    "ax.set_ylabel(\"ADC counts\", size=14)\n",
    "plt.tight_layout()\n",
    "# fig.savefig(\"recon_waveform_example.png\", dpi=240)"
   ]
  },
  {
   "cell_type": "code",
   "execution_count": null,
   "metadata": {
    "collapsed": true
   },
   "outputs": [],
   "source": [
    "len(waveforms_in_channels[0].columns)"
   ]
  },
  {
   "cell_type": "code",
   "execution_count": null,
   "metadata": {
    "collapsed": true
   },
   "outputs": [],
   "source": [
    "dfc.empty()"
   ]
  },
  {
   "cell_type": "code",
   "execution_count": null,
   "metadata": {
    "collapsed": true
   },
   "outputs": [],
   "source": [
    "maxlist = []\n",
    "for wf in waveforms_in_channels:\n",
    "    df = wf[wf > 0.] #waveforms_in_channels[0]\n",
    "    #df = df[df > 0.]\n",
    "    for i, channel in enumerate(df):\n",
    "        dfc = df[channel].dropna()\n",
    "        if not dfc.empty:\n",
    "            maxlist.append(dfc.max())\n",
    "\n",
    "max(maxlist)\n",
    "\n",
    "\n",
    "    #df = waveforms_in_channels[0][channel]#[\"channel_5\"]\n",
    "    #df.dropna(inplace=True)\n",
    "    #df = \n",
    "    #print(df.loc[df > 0.].max())\n",
    "    #max_counts[i] = df.loc[df > 0.].max()\n",
    "    #print(df.loc[df > 0.].max())\n",
    "\n",
    "#pd.Series(max_counts).dropna().max()\n",
    "#df[df > 0.][\"channel_0\"].dropna()\n",
    "#df.loc[df > 0.]"
   ]
  },
  {
   "cell_type": "code",
   "execution_count": null,
   "metadata": {
    "collapsed": true
   },
   "outputs": [],
   "source": [
    "len(maxlist)"
   ]
  },
  {
   "cell_type": "code",
   "execution_count": null,
   "metadata": {
    "collapsed": true,
    "scrolled": false
   },
   "outputs": [],
   "source": [
    "max_counts = np.zeros(len(waveforms_in_channels[0].columns))\n",
    "for i, channel in enumerate(waveforms_in_channels[0]):\n",
    "    df = waveforms_in_channels[0][channel]#[\"channel_5\"]\n",
    "    df.dropna(inplace=True)\n",
    "    #df = \n",
    "    #print(df.loc[df > 0.].max())\n",
    "    max_counts[i] = df.loc[df > 0.].max()\n",
    "    #print(df.loc[df > 0.].max())\n",
    "\n",
    "pd.Series(max_counts).dropna().max()\n",
    "#df#.hist()\n",
    "#df.max()\n",
    "#df.describe()\n",
    "#df.hist()"
   ]
  },
  {
   "cell_type": "code",
   "execution_count": null,
   "metadata": {
    "collapsed": true
   },
   "outputs": [],
   "source": [
    "df.loc[df > 0.].min()"
   ]
  },
  {
   "cell_type": "code",
   "execution_count": null,
   "metadata": {
    "collapsed": true
   },
   "outputs": [],
   "source": [
    "df.plot()"
   ]
  },
  {
   "cell_type": "code",
   "execution_count": null,
   "metadata": {
    "collapsed": true
   },
   "outputs": [],
   "source": []
  }
 ],
 "metadata": {
  "anaconda-cloud": {},
  "kernelspec": {
   "display_name": "Python [conda env:ml_pax]",
   "language": "python",
   "name": "conda-env-ml_pax-py"
  },
  "language_info": {
   "codemirror_mode": {
    "name": "ipython",
    "version": 3
   },
   "file_extension": ".py",
   "mimetype": "text/x-python",
   "name": "python",
   "nbconvert_exporter": "python",
   "pygments_lexer": "ipython3",
   "version": "3.6.2"
  }
 },
 "nbformat": 4,
 "nbformat_minor": 2
}
