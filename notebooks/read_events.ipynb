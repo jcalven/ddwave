{
 "cells": [
  {
   "cell_type": "code",
   "execution_count": 18,
   "metadata": {
    "collapsed": false
   },
   "outputs": [
    {
     "name": "stdout",
     "output_type": "stream",
     "text": [
      "The autoreload extension is already loaded. To reload it, use:\n",
      "  %reload_ext autoreload\n"
     ]
    }
   ],
   "source": [
    "%load_ext autoreload\n",
    "%autoreload 2\n",
    "\n",
    "%matplotlib inline\n",
    "import sys\n",
    "import os.path\n",
    "import matplotlib.pyplot as plt\n",
    "import seaborn as sbn\n",
    "\n",
    "sys.path.append(os.path.dirname(\"../\"))\n",
    "\n",
    "from plugins.FaxDistiller import Distill"
   ]
  },
  {
   "cell_type": "code",
   "execution_count": 2,
   "metadata": {
    "collapsed": true
   },
   "outputs": [],
   "source": [
    "raw_file = \"../data/FakeWaveform_raw/XENON1T-0-000000000-000000999-000001000.zip\"\n",
    "truth_file = \"../data/FakeWaveform_truth.csv\""
   ]
  },
  {
   "cell_type": "markdown",
   "metadata": {},
   "source": [
    "### Load FAX raw data and distill down into useful parts"
   ]
  },
  {
   "cell_type": "code",
   "execution_count": 3,
   "metadata": {
    "collapsed": false
   },
   "outputs": [
    {
     "name": "stderr",
     "output_type": "stream",
     "text": [
      "100%|██████████| 1000/1000 [00:05<00:00, 184.95it/s]\n",
      "100%|██████████| 1000/1000 [00:01<00:00, 638.18it/s]\n"
     ]
    }
   ],
   "source": [
    "distiller = Distill(raw_file, truth_file)\n",
    "distiller.load()"
   ]
  },
  {
   "cell_type": "markdown",
   "metadata": {},
   "source": [
    "### The way to retrieve distilled data"
   ]
  },
  {
   "cell_type": "code",
   "execution_count": 4,
   "metadata": {
    "collapsed": false
   },
   "outputs": [
    {
     "data": {
      "text/html": [
       "<div>\n",
       "<table border=\"1\" class=\"dataframe\">\n",
       "  <thead>\n",
       "    <tr style=\"text-align: right;\">\n",
       "      <th></th>\n",
       "      <th>baseline</th>\n",
       "      <th>channel</th>\n",
       "      <th>event_number</th>\n",
       "      <th>left</th>\n",
       "      <th>length</th>\n",
       "      <th>max_waveform_length</th>\n",
       "      <th>right</th>\n",
       "      <th>waveform</th>\n",
       "    </tr>\n",
       "  </thead>\n",
       "  <tbody>\n",
       "    <tr>\n",
       "      <th>0</th>\n",
       "      <td>NaN</td>\n",
       "      <td>0</td>\n",
       "      <td>1</td>\n",
       "      <td>105438</td>\n",
       "      <td>190</td>\n",
       "      <td>190</td>\n",
       "      <td>105627</td>\n",
       "      <td>[16000, 16004, 15998, 16005, 15999, 16005, 160...</td>\n",
       "    </tr>\n",
       "    <tr>\n",
       "      <th>1</th>\n",
       "      <td>NaN</td>\n",
       "      <td>0</td>\n",
       "      <td>1</td>\n",
       "      <td>136472</td>\n",
       "      <td>102</td>\n",
       "      <td>102</td>\n",
       "      <td>136573</td>\n",
       "      <td>[16002, 16008, 16000, 16009, 16002, 16004, 159...</td>\n",
       "    </tr>\n",
       "    <tr>\n",
       "      <th>2</th>\n",
       "      <td>NaN</td>\n",
       "      <td>3</td>\n",
       "      <td>1</td>\n",
       "      <td>105438</td>\n",
       "      <td>102</td>\n",
       "      <td>102</td>\n",
       "      <td>105539</td>\n",
       "      <td>[16003, 15999, 16004, 16000, 16006, 15999, 160...</td>\n",
       "    </tr>\n",
       "    <tr>\n",
       "      <th>3</th>\n",
       "      <td>NaN</td>\n",
       "      <td>3</td>\n",
       "      <td>1</td>\n",
       "      <td>110444</td>\n",
       "      <td>102</td>\n",
       "      <td>102</td>\n",
       "      <td>110545</td>\n",
       "      <td>[16001, 15998, 16000, 15996, 16002, 15998, 160...</td>\n",
       "    </tr>\n",
       "    <tr>\n",
       "      <th>4</th>\n",
       "      <td>NaN</td>\n",
       "      <td>4</td>\n",
       "      <td>1</td>\n",
       "      <td>105420</td>\n",
       "      <td>256</td>\n",
       "      <td>256</td>\n",
       "      <td>105675</td>\n",
       "      <td>[16009, 16010, 16011, 16006, 16012, 16006, 160...</td>\n",
       "    </tr>\n",
       "  </tbody>\n",
       "</table>\n",
       "</div>"
      ],
      "text/plain": [
       "   baseline  channel  event_number    left  length  max_waveform_length  \\\n",
       "0       NaN        0             1  105438     190                  190   \n",
       "1       NaN        0             1  136472     102                  102   \n",
       "2       NaN        3             1  105438     102                  102   \n",
       "3       NaN        3             1  110444     102                  102   \n",
       "4       NaN        4             1  105420     256                  256   \n",
       "\n",
       "    right                                           waveform  \n",
       "0  105627  [16000, 16004, 15998, 16005, 15999, 16005, 160...  \n",
       "1  136573  [16002, 16008, 16000, 16009, 16002, 16004, 159...  \n",
       "2  105539  [16003, 15999, 16004, 16000, 16006, 15999, 160...  \n",
       "3  110545  [16001, 15998, 16000, 15996, 16002, 15998, 160...  \n",
       "4  105675  [16009, 16010, 16011, 16006, 16012, 16006, 160...  "
      ]
     },
     "execution_count": 4,
     "metadata": {},
     "output_type": "execute_result"
    }
   ],
   "source": [
    "### Distill.get() returns iterator of distilled data for the event (objects of the Condensate() class)\n",
    "event = distiller.get(1).__next__()\n",
    "event.get_event().head()"
   ]
  },
  {
   "cell_type": "code",
   "execution_count": 5,
   "metadata": {
    "collapsed": false
   },
   "outputs": [
    {
     "name": "stdout",
     "output_type": "stream",
     "text": [
      "\n",
      "        Class of distilled FAX events.\n",
      "        \n",
      "        Methods:\n",
      "            : get_events() : Returns pandas.DataFrame with core information on pulses in the event.\n",
      "            : get_waveforms_in_channel() : Returns pandas.DataFrame with reconstructed waveforms per\n",
      "                                           channel (pmt) for the event.\n",
      "            : get_event_truth() : Returns pandas.DataFrame with FAX truth information on the event\n",
      "    \n"
     ]
    }
   ],
   "source": [
    "print(event.__doc__)"
   ]
  },
  {
   "cell_type": "markdown",
   "metadata": {},
   "source": [
    "### Loop over events and store distilled data for each event"
   ]
  },
  {
   "cell_type": "code",
   "execution_count": 6,
   "metadata": {
    "collapsed": false
   },
   "outputs": [],
   "source": [
    "events = []\n",
    "waveforms_in_channels = []\n",
    "event_truths = []\n",
    "\n",
    "for distilled_events in distiller.get(10):\n",
    "    events.append(distilled_events.get_event())  # Retrieve pandas.DataFrame of event information\n",
    "    waveforms_in_channels.append(distilled_events.get_waveforms_in_channels())  # Retrieve pandas.DataFrame \n",
    "                                                                                # of per channel reconstructed \n",
    "                                                                                # waveforms in the event\n",
    "    event_truths.append(distilled_events.get_event_truth())  # Retrieve pandas.DataFrame of PAX truth information for event"
   ]
  },
  {
   "cell_type": "code",
   "execution_count": 8,
   "metadata": {
    "collapsed": false
   },
   "outputs": [
    {
     "data": {
      "text/html": [
       "<div>\n",
       "<table border=\"1\" class=\"dataframe\">\n",
       "  <thead>\n",
       "    <tr style=\"text-align: right;\">\n",
       "      <th></th>\n",
       "      <th>fax_truth_peak_id</th>\n",
       "      <th>event</th>\n",
       "      <th>g4_id</th>\n",
       "      <th>instruction</th>\n",
       "      <th>n_electrons</th>\n",
       "      <th>n_photons</th>\n",
       "      <th>peak_type</th>\n",
       "      <th>repetition</th>\n",
       "      <th>t_first_electron</th>\n",
       "      <th>t_first_photon</th>\n",
       "      <th>...</th>\n",
       "      <th>t_last_electron</th>\n",
       "      <th>t_last_photon</th>\n",
       "      <th>t_mean_electrons</th>\n",
       "      <th>t_mean_photons</th>\n",
       "      <th>t_sigma_electrons</th>\n",
       "      <th>t_sigma_photons</th>\n",
       "      <th>top_fraction</th>\n",
       "      <th>x</th>\n",
       "      <th>y</th>\n",
       "      <th>z</th>\n",
       "    </tr>\n",
       "  </thead>\n",
       "  <tbody>\n",
       "    <tr>\n",
       "      <th>5</th>\n",
       "      <td>5</td>\n",
       "      <td>1</td>\n",
       "      <td>-1</td>\n",
       "      <td>1</td>\n",
       "      <td>NaN</td>\n",
       "      <td>29</td>\n",
       "      <td>s1</td>\n",
       "      <td>0</td>\n",
       "      <td>NaN</td>\n",
       "      <td>6.550311e+05</td>\n",
       "      <td>...</td>\n",
       "      <td>NaN</td>\n",
       "      <td>6.551501e+05</td>\n",
       "      <td>NaN</td>\n",
       "      <td>6.550778e+05</td>\n",
       "      <td>NaN</td>\n",
       "      <td>32.208841</td>\n",
       "      <td>0.034483</td>\n",
       "      <td>2.626434</td>\n",
       "      <td>-17.960824</td>\n",
       "      <td>-57.456815</td>\n",
       "    </tr>\n",
       "    <tr>\n",
       "      <th>6</th>\n",
       "      <td>6</td>\n",
       "      <td>1</td>\n",
       "      <td>-1</td>\n",
       "      <td>1</td>\n",
       "      <td>32.0</td>\n",
       "      <td>764</td>\n",
       "      <td>s2</td>\n",
       "      <td>0</td>\n",
       "      <td>1.053706e+06</td>\n",
       "      <td>1.053837e+06</td>\n",
       "      <td>...</td>\n",
       "      <td>1.056341e+06</td>\n",
       "      <td>1.057203e+06</td>\n",
       "      <td>1.055127e+06</td>\n",
       "      <td>1.055459e+06</td>\n",
       "      <td>657.901854</td>\n",
       "      <td>678.571516</td>\n",
       "      <td>0.676702</td>\n",
       "      <td>2.488824</td>\n",
       "      <td>-17.019777</td>\n",
       "      <td>-57.456815</td>\n",
       "    </tr>\n",
       "    <tr>\n",
       "      <th>7</th>\n",
       "      <td>7</td>\n",
       "      <td>1</td>\n",
       "      <td>-1</td>\n",
       "      <td>1</td>\n",
       "      <td>NaN</td>\n",
       "      <td>23</td>\n",
       "      <td>photoionization_afterpulse</td>\n",
       "      <td>0</td>\n",
       "      <td>NaN</td>\n",
       "      <td>1.588175e+06</td>\n",
       "      <td>...</td>\n",
       "      <td>NaN</td>\n",
       "      <td>1.588743e+06</td>\n",
       "      <td>NaN</td>\n",
       "      <td>1.588460e+06</td>\n",
       "      <td>NaN</td>\n",
       "      <td>142.841918</td>\n",
       "      <td>0.652174</td>\n",
       "      <td>47.416537</td>\n",
       "      <td>4.326025</td>\n",
       "      <td>-0.500000</td>\n",
       "    </tr>\n",
       "    <tr>\n",
       "      <th>8</th>\n",
       "      <td>8</td>\n",
       "      <td>1</td>\n",
       "      <td>-1</td>\n",
       "      <td>1</td>\n",
       "      <td>NaN</td>\n",
       "      <td>30</td>\n",
       "      <td>photoionization_afterpulse</td>\n",
       "      <td>0</td>\n",
       "      <td>NaN</td>\n",
       "      <td>1.063021e+06</td>\n",
       "      <td>...</td>\n",
       "      <td>NaN</td>\n",
       "      <td>1.063584e+06</td>\n",
       "      <td>NaN</td>\n",
       "      <td>1.063262e+06</td>\n",
       "      <td>NaN</td>\n",
       "      <td>139.310171</td>\n",
       "      <td>0.600000</td>\n",
       "      <td>6.501793</td>\n",
       "      <td>12.179028</td>\n",
       "      <td>-0.500000</td>\n",
       "    </tr>\n",
       "    <tr>\n",
       "      <th>9</th>\n",
       "      <td>9</td>\n",
       "      <td>1</td>\n",
       "      <td>-1</td>\n",
       "      <td>1</td>\n",
       "      <td>NaN</td>\n",
       "      <td>19</td>\n",
       "      <td>photoionization_afterpulse</td>\n",
       "      <td>0</td>\n",
       "      <td>NaN</td>\n",
       "      <td>1.365220e+06</td>\n",
       "      <td>...</td>\n",
       "      <td>NaN</td>\n",
       "      <td>1.365713e+06</td>\n",
       "      <td>NaN</td>\n",
       "      <td>1.365479e+06</td>\n",
       "      <td>NaN</td>\n",
       "      <td>154.385169</td>\n",
       "      <td>0.526316</td>\n",
       "      <td>-10.587970</td>\n",
       "      <td>37.731992</td>\n",
       "      <td>-0.500000</td>\n",
       "    </tr>\n",
       "    <tr>\n",
       "      <th>10</th>\n",
       "      <td>10</td>\n",
       "      <td>1</td>\n",
       "      <td>-1</td>\n",
       "      <td>1</td>\n",
       "      <td>NaN</td>\n",
       "      <td>21</td>\n",
       "      <td>photoionization_afterpulse</td>\n",
       "      <td>0</td>\n",
       "      <td>NaN</td>\n",
       "      <td>1.393101e+06</td>\n",
       "      <td>...</td>\n",
       "      <td>NaN</td>\n",
       "      <td>1.393944e+06</td>\n",
       "      <td>NaN</td>\n",
       "      <td>1.393371e+06</td>\n",
       "      <td>NaN</td>\n",
       "      <td>168.065879</td>\n",
       "      <td>0.666667</td>\n",
       "      <td>-15.456438</td>\n",
       "      <td>12.185898</td>\n",
       "      <td>-0.500000</td>\n",
       "    </tr>\n",
       "    <tr>\n",
       "      <th>11</th>\n",
       "      <td>11</td>\n",
       "      <td>1</td>\n",
       "      <td>-1</td>\n",
       "      <td>1</td>\n",
       "      <td>NaN</td>\n",
       "      <td>26</td>\n",
       "      <td>photoionization_afterpulse</td>\n",
       "      <td>0</td>\n",
       "      <td>NaN</td>\n",
       "      <td>1.394373e+06</td>\n",
       "      <td>...</td>\n",
       "      <td>NaN</td>\n",
       "      <td>1.395161e+06</td>\n",
       "      <td>NaN</td>\n",
       "      <td>1.394621e+06</td>\n",
       "      <td>NaN</td>\n",
       "      <td>192.550195</td>\n",
       "      <td>0.653846</td>\n",
       "      <td>-43.696444</td>\n",
       "      <td>0.595208</td>\n",
       "      <td>-0.500000</td>\n",
       "    </tr>\n",
       "    <tr>\n",
       "      <th>12</th>\n",
       "      <td>12</td>\n",
       "      <td>1</td>\n",
       "      <td>-1</td>\n",
       "      <td>1</td>\n",
       "      <td>NaN</td>\n",
       "      <td>20</td>\n",
       "      <td>photoionization_afterpulse</td>\n",
       "      <td>0</td>\n",
       "      <td>NaN</td>\n",
       "      <td>1.104477e+06</td>\n",
       "      <td>...</td>\n",
       "      <td>NaN</td>\n",
       "      <td>1.105084e+06</td>\n",
       "      <td>NaN</td>\n",
       "      <td>1.104776e+06</td>\n",
       "      <td>NaN</td>\n",
       "      <td>181.621535</td>\n",
       "      <td>0.750000</td>\n",
       "      <td>-31.802839</td>\n",
       "      <td>23.183041</td>\n",
       "      <td>-0.500000</td>\n",
       "    </tr>\n",
       "  </tbody>\n",
       "</table>\n",
       "<p>8 rows × 21 columns</p>\n",
       "</div>"
      ],
      "text/plain": [
       "    fax_truth_peak_id  event  g4_id  instruction  n_electrons  n_photons  \\\n",
       "5                   5      1     -1            1          NaN         29   \n",
       "6                   6      1     -1            1         32.0        764   \n",
       "7                   7      1     -1            1          NaN         23   \n",
       "8                   8      1     -1            1          NaN         30   \n",
       "9                   9      1     -1            1          NaN         19   \n",
       "10                 10      1     -1            1          NaN         21   \n",
       "11                 11      1     -1            1          NaN         26   \n",
       "12                 12      1     -1            1          NaN         20   \n",
       "\n",
       "                     peak_type  repetition  t_first_electron  t_first_photon  \\\n",
       "5                           s1           0               NaN    6.550311e+05   \n",
       "6                           s2           0      1.053706e+06    1.053837e+06   \n",
       "7   photoionization_afterpulse           0               NaN    1.588175e+06   \n",
       "8   photoionization_afterpulse           0               NaN    1.063021e+06   \n",
       "9   photoionization_afterpulse           0               NaN    1.365220e+06   \n",
       "10  photoionization_afterpulse           0               NaN    1.393101e+06   \n",
       "11  photoionization_afterpulse           0               NaN    1.394373e+06   \n",
       "12  photoionization_afterpulse           0               NaN    1.104477e+06   \n",
       "\n",
       "      ...      t_last_electron  t_last_photon  t_mean_electrons  \\\n",
       "5     ...                  NaN   6.551501e+05               NaN   \n",
       "6     ...         1.056341e+06   1.057203e+06      1.055127e+06   \n",
       "7     ...                  NaN   1.588743e+06               NaN   \n",
       "8     ...                  NaN   1.063584e+06               NaN   \n",
       "9     ...                  NaN   1.365713e+06               NaN   \n",
       "10    ...                  NaN   1.393944e+06               NaN   \n",
       "11    ...                  NaN   1.395161e+06               NaN   \n",
       "12    ...                  NaN   1.105084e+06               NaN   \n",
       "\n",
       "    t_mean_photons  t_sigma_electrons  t_sigma_photons  top_fraction  \\\n",
       "5     6.550778e+05                NaN        32.208841      0.034483   \n",
       "6     1.055459e+06         657.901854       678.571516      0.676702   \n",
       "7     1.588460e+06                NaN       142.841918      0.652174   \n",
       "8     1.063262e+06                NaN       139.310171      0.600000   \n",
       "9     1.365479e+06                NaN       154.385169      0.526316   \n",
       "10    1.393371e+06                NaN       168.065879      0.666667   \n",
       "11    1.394621e+06                NaN       192.550195      0.653846   \n",
       "12    1.104776e+06                NaN       181.621535      0.750000   \n",
       "\n",
       "            x          y          z  \n",
       "5    2.626434 -17.960824 -57.456815  \n",
       "6    2.488824 -17.019777 -57.456815  \n",
       "7   47.416537   4.326025  -0.500000  \n",
       "8    6.501793  12.179028  -0.500000  \n",
       "9  -10.587970  37.731992  -0.500000  \n",
       "10 -15.456438  12.185898  -0.500000  \n",
       "11 -43.696444   0.595208  -0.500000  \n",
       "12 -31.802839  23.183041  -0.500000  \n",
       "\n",
       "[8 rows x 21 columns]"
      ]
     },
     "execution_count": 8,
     "metadata": {},
     "output_type": "execute_result"
    }
   ],
   "source": [
    "event_truths[0]"
   ]
  },
  {
   "cell_type": "code",
   "execution_count": 27,
   "metadata": {
    "collapsed": false
   },
   "outputs": [
    {
     "data": {
      "image/png": "[encoded data removed]",
      "text/plain": [
       "<matplotlib.figure.Figure at 0x7f95473e9898>"
      ]
     },
     "metadata": {},
     "output_type": "display_data"
    }
   ],
   "source": [
    "### Plot of waveforms for each pmt summed up\n",
    "\n",
    "sum_waveforms = waveforms_in_channels[0].drop(\"event_number\", axis=1).sum(axis=1)\n",
    "\n",
    "fig = plt.figure(figsize=(14,6))\n",
    "ax = plt.subplot(111)\n",
    "fig = ax.plot(sum_waveforms.index, sum_waveforms)"
   ]
  },
  {
   "cell_type": "code",
   "execution_count": null,
   "metadata": {
    "collapsed": true
   },
   "outputs": [],
   "source": []
  }
 ],
 "metadata": {
  "anaconda-cloud": {},
  "kernelspec": {
   "display_name": "Python [conda env:pax_v6.8.2]",
   "language": "python",
   "name": "conda-env-pax_v6.8.2-py"
  },
  "language_info": {
   "codemirror_mode": {
    "name": "ipython",
    "version": 3
   },
   "file_extension": ".py",
   "mimetype": "text/x-python",
   "name": "python",
   "nbconvert_exporter": "python",
   "pygments_lexer": "ipython3",
   "version": "3.4.4"
  }
 },
 "nbformat": 4,
 "nbformat_minor": 2
}
