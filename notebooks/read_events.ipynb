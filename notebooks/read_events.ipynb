{
 "cells": [
  {
   "cell_type": "code",
   "execution_count": 6,
   "metadata": {
    "collapsed": false
   },
   "outputs": [
    {
     "name": "stdout",
     "output_type": "stream",
     "text": [
      "The autoreload extension is already loaded. To reload it, use:\n",
      "  %reload_ext autoreload\n"
     ]
    }
   ],
   "source": [
    "%load_ext autoreload\n",
    "%autoreload 2\n",
    "\n",
    "%matplotlib inline\n",
    "import sys\n",
    "import os.path\n",
    "import matplotlib.pyplot as plt\n",
    "import matplotlib as mpl\n",
    "#mpl.style.use('v2.0')\n",
    "plt.style.use('ggplot')\n",
    "\n",
    "import numpy as np\n",
    "import pandas as pd\n",
    "\n",
    "\n",
    "sys.path.append(os.path.dirname(\"../\"))\n",
    "\n",
    "from plugins.FaxDistiller import Distill"
   ]
  },
  {
   "cell_type": "code",
   "execution_count": 7,
   "metadata": {
    "collapsed": true
   },
   "outputs": [],
   "source": [
    "raw_file = \"../data/FakeWaveform_raw/XENON1T-0-000000000-000000999-000001000.zip\"\n",
    "truth_file = \"../data/FakeWaveform_truth.csv\"\n",
    "instructions_file = \"../data/FakeWaveform.csv\""
   ]
  },
  {
   "cell_type": "markdown",
   "metadata": {},
   "source": [
    "### Load FAX raw data and distill down into useful parts"
   ]
  },
  {
   "cell_type": "code",
   "execution_count": 10,
   "metadata": {
    "collapsed": false
   },
   "outputs": [
    {
     "name": "stderr",
     "output_type": "stream",
     "text": [
      "100%|██████████| 1000/1000 [00:02<00:00, 351.30it/s]\n",
      "100%|██████████| 1000/1000 [00:01<00:00, 533.36it/s]\n"
     ]
    }
   ],
   "source": [
    "distiller = Distill(raw_file, truth_file, instructions_file)\n",
    "distiller.load()"
   ]
  },
  {
   "cell_type": "markdown",
   "metadata": {},
   "source": [
    "### The way to retrieve distilled data"
   ]
  },
  {
   "cell_type": "code",
   "execution_count": 11,
   "metadata": {
    "collapsed": false
   },
   "outputs": [
    {
     "data": {
      "text/html": [
       "<div>\n",
       "<table border=\"1\" class=\"dataframe\">\n",
       "  <thead>\n",
       "    <tr style=\"text-align: right;\">\n",
       "      <th></th>\n",
       "      <th>baseline</th>\n",
       "      <th>channel</th>\n",
       "      <th>event_number</th>\n",
       "      <th>left</th>\n",
       "      <th>length</th>\n",
       "      <th>max_waveform_length</th>\n",
       "      <th>right</th>\n",
       "      <th>waveform</th>\n",
       "    </tr>\n",
       "  </thead>\n",
       "  <tbody>\n",
       "    <tr>\n",
       "      <th>0</th>\n",
       "      <td>NaN</td>\n",
       "      <td>0</td>\n",
       "      <td>0</td>\n",
       "      <td>82764</td>\n",
       "      <td>158</td>\n",
       "      <td>158</td>\n",
       "      <td>82921</td>\n",
       "      <td>[16002, 16006, 15998, 16006, 16000, 16003, 159...</td>\n",
       "    </tr>\n",
       "    <tr>\n",
       "      <th>1</th>\n",
       "      <td>NaN</td>\n",
       "      <td>2</td>\n",
       "      <td>0</td>\n",
       "      <td>82646</td>\n",
       "      <td>284</td>\n",
       "      <td>284</td>\n",
       "      <td>82929</td>\n",
       "      <td>[15999, 16001, 16003, 16003, 16004, 16005, 160...</td>\n",
       "    </tr>\n",
       "    <tr>\n",
       "      <th>2</th>\n",
       "      <td>NaN</td>\n",
       "      <td>3</td>\n",
       "      <td>0</td>\n",
       "      <td>82738</td>\n",
       "      <td>130</td>\n",
       "      <td>130</td>\n",
       "      <td>82867</td>\n",
       "      <td>[16001, 15999, 16002, 15999, 16001, 16000, 160...</td>\n",
       "    </tr>\n",
       "    <tr>\n",
       "      <th>3</th>\n",
       "      <td>NaN</td>\n",
       "      <td>4</td>\n",
       "      <td>0</td>\n",
       "      <td>82698</td>\n",
       "      <td>198</td>\n",
       "      <td>198</td>\n",
       "      <td>82895</td>\n",
       "      <td>[16006, 16002, 16008, 16003, 16008, 16004, 160...</td>\n",
       "    </tr>\n",
       "    <tr>\n",
       "      <th>4</th>\n",
       "      <td>NaN</td>\n",
       "      <td>5</td>\n",
       "      <td>0</td>\n",
       "      <td>72794</td>\n",
       "      <td>100</td>\n",
       "      <td>100</td>\n",
       "      <td>72893</td>\n",
       "      <td>[16002, 16002, 16005, 16007, 16004, 16006, 160...</td>\n",
       "    </tr>\n",
       "  </tbody>\n",
       "</table>\n",
       "</div>"
      ],
      "text/plain": [
       "   baseline  channel  event_number   left  length  max_waveform_length  right  \\\n",
       "0       NaN        0             0  82764     158                  158  82921   \n",
       "1       NaN        2             0  82646     284                  284  82929   \n",
       "2       NaN        3             0  82738     130                  130  82867   \n",
       "3       NaN        4             0  82698     198                  198  82895   \n",
       "4       NaN        5             0  72794     100                  100  72893   \n",
       "\n",
       "                                            waveform  \n",
       "0  [16002, 16006, 15998, 16006, 16000, 16003, 159...  \n",
       "1  [15999, 16001, 16003, 16003, 16004, 16005, 160...  \n",
       "2  [16001, 15999, 16002, 15999, 16001, 16000, 160...  \n",
       "3  [16006, 16002, 16008, 16003, 16008, 16004, 160...  \n",
       "4  [16002, 16002, 16005, 16007, 16004, 16006, 160...  "
      ]
     },
     "execution_count": 11,
     "metadata": {},
     "output_type": "execute_result"
    }
   ],
   "source": [
    "### Distill.get() returns iterator of distilled data for the event (objects of the Condensate() class)\n",
    "event = distiller.get(1).__next__()\n",
    "event.get_event().head()"
   ]
  },
  {
   "cell_type": "code",
   "execution_count": 12,
   "metadata": {
    "collapsed": false
   },
   "outputs": [
    {
     "name": "stdout",
     "output_type": "stream",
     "text": [
      "\n",
      "        Class of distilled FAX events.\n",
      "        \n",
      "        Methods:\n",
      "            : get_events() : Returns pandas.DataFrame with core information on pulses in the event.\n",
      "            : get_waveforms_in_channel() : Returns pandas.DataFrame with reconstructed waveforms per\n",
      "                                           channel (pmt) for the event.\n",
      "            : get_event_truth() : Returns pandas.DataFrame with FAX truth information on the event\n",
      "    \n"
     ]
    }
   ],
   "source": [
    "print(event.__doc__)"
   ]
  },
  {
   "cell_type": "markdown",
   "metadata": {},
   "source": [
    "### Loop over events and store distilled data for each event"
   ]
  },
  {
   "cell_type": "code",
   "execution_count": 15,
   "metadata": {
    "collapsed": false,
    "scrolled": false
   },
   "outputs": [],
   "source": [
    "events = []\n",
    "waveforms_in_channels = []\n",
    "event_truths = []\n",
    "\n",
    "n_events = 10\n",
    "\n",
    "for distilled_events in distiller.get(n_events):\n",
    "    \n",
    "    events.append(distilled_events.get_event())  # Retrieve pandas.DataFrame of event information\n",
    "    waveforms_in_channels.append(distilled_events.get_waveforms_in_channels())  # Retrieve pandas.DataFrame \n",
    "                                                                                # of per channel reconstructed \n",
    "                                                                                # waveforms in the event\n",
    "    event_truths.append(distilled_events.get_event_truth())  # Retrieve pandas.DataFrame of PAX truth information for event"
   ]
  },
  {
   "cell_type": "code",
   "execution_count": 16,
   "metadata": {
    "collapsed": false
   },
   "outputs": [
    {
     "data": {
      "text/html": [
       "<div>\n",
       "<table border=\"1\" class=\"dataframe\">\n",
       "  <thead>\n",
       "    <tr style=\"text-align: right;\">\n",
       "      <th></th>\n",
       "      <th>channel_0</th>\n",
       "      <th>channel_1</th>\n",
       "      <th>channel_2</th>\n",
       "      <th>channel_3</th>\n",
       "      <th>channel_4</th>\n",
       "      <th>channel_5</th>\n",
       "      <th>channel_6</th>\n",
       "      <th>channel_7</th>\n",
       "      <th>channel_8</th>\n",
       "      <th>channel_9</th>\n",
       "      <th>...</th>\n",
       "      <th>channel_239</th>\n",
       "      <th>channel_240</th>\n",
       "      <th>channel_241</th>\n",
       "      <th>channel_242</th>\n",
       "      <th>channel_243</th>\n",
       "      <th>channel_244</th>\n",
       "      <th>channel_245</th>\n",
       "      <th>channel_246</th>\n",
       "      <th>channel_247</th>\n",
       "      <th>event_number</th>\n",
       "    </tr>\n",
       "  </thead>\n",
       "  <tbody>\n",
       "    <tr>\n",
       "      <th>0</th>\n",
       "      <td>0.0</td>\n",
       "      <td>0.0</td>\n",
       "      <td>0.0</td>\n",
       "      <td>0.0</td>\n",
       "      <td>0.0</td>\n",
       "      <td>0.0</td>\n",
       "      <td>0.0</td>\n",
       "      <td>0.0</td>\n",
       "      <td>0.0</td>\n",
       "      <td>0.0</td>\n",
       "      <td>...</td>\n",
       "      <td>0.0</td>\n",
       "      <td>0.0</td>\n",
       "      <td>0.0</td>\n",
       "      <td>0.0</td>\n",
       "      <td>0.0</td>\n",
       "      <td>0.0</td>\n",
       "      <td>0.0</td>\n",
       "      <td>0.0</td>\n",
       "      <td>0.0</td>\n",
       "      <td>0</td>\n",
       "    </tr>\n",
       "    <tr>\n",
       "      <th>1</th>\n",
       "      <td>0.0</td>\n",
       "      <td>0.0</td>\n",
       "      <td>0.0</td>\n",
       "      <td>0.0</td>\n",
       "      <td>0.0</td>\n",
       "      <td>0.0</td>\n",
       "      <td>0.0</td>\n",
       "      <td>0.0</td>\n",
       "      <td>0.0</td>\n",
       "      <td>0.0</td>\n",
       "      <td>...</td>\n",
       "      <td>0.0</td>\n",
       "      <td>0.0</td>\n",
       "      <td>0.0</td>\n",
       "      <td>0.0</td>\n",
       "      <td>0.0</td>\n",
       "      <td>0.0</td>\n",
       "      <td>0.0</td>\n",
       "      <td>0.0</td>\n",
       "      <td>0.0</td>\n",
       "      <td>0</td>\n",
       "    </tr>\n",
       "    <tr>\n",
       "      <th>2</th>\n",
       "      <td>0.0</td>\n",
       "      <td>0.0</td>\n",
       "      <td>0.0</td>\n",
       "      <td>0.0</td>\n",
       "      <td>0.0</td>\n",
       "      <td>0.0</td>\n",
       "      <td>0.0</td>\n",
       "      <td>0.0</td>\n",
       "      <td>0.0</td>\n",
       "      <td>0.0</td>\n",
       "      <td>...</td>\n",
       "      <td>0.0</td>\n",
       "      <td>0.0</td>\n",
       "      <td>0.0</td>\n",
       "      <td>0.0</td>\n",
       "      <td>0.0</td>\n",
       "      <td>0.0</td>\n",
       "      <td>0.0</td>\n",
       "      <td>0.0</td>\n",
       "      <td>0.0</td>\n",
       "      <td>0</td>\n",
       "    </tr>\n",
       "    <tr>\n",
       "      <th>3</th>\n",
       "      <td>0.0</td>\n",
       "      <td>0.0</td>\n",
       "      <td>0.0</td>\n",
       "      <td>0.0</td>\n",
       "      <td>0.0</td>\n",
       "      <td>0.0</td>\n",
       "      <td>0.0</td>\n",
       "      <td>0.0</td>\n",
       "      <td>0.0</td>\n",
       "      <td>0.0</td>\n",
       "      <td>...</td>\n",
       "      <td>0.0</td>\n",
       "      <td>0.0</td>\n",
       "      <td>0.0</td>\n",
       "      <td>0.0</td>\n",
       "      <td>0.0</td>\n",
       "      <td>0.0</td>\n",
       "      <td>0.0</td>\n",
       "      <td>0.0</td>\n",
       "      <td>0.0</td>\n",
       "      <td>0</td>\n",
       "    </tr>\n",
       "    <tr>\n",
       "      <th>4</th>\n",
       "      <td>0.0</td>\n",
       "      <td>0.0</td>\n",
       "      <td>0.0</td>\n",
       "      <td>0.0</td>\n",
       "      <td>0.0</td>\n",
       "      <td>0.0</td>\n",
       "      <td>0.0</td>\n",
       "      <td>0.0</td>\n",
       "      <td>0.0</td>\n",
       "      <td>0.0</td>\n",
       "      <td>...</td>\n",
       "      <td>0.0</td>\n",
       "      <td>0.0</td>\n",
       "      <td>0.0</td>\n",
       "      <td>0.0</td>\n",
       "      <td>0.0</td>\n",
       "      <td>0.0</td>\n",
       "      <td>0.0</td>\n",
       "      <td>0.0</td>\n",
       "      <td>0.0</td>\n",
       "      <td>0</td>\n",
       "    </tr>\n",
       "  </tbody>\n",
       "</table>\n",
       "<p>5 rows × 249 columns</p>\n",
       "</div>"
      ],
      "text/plain": [
       "   channel_0  channel_1  channel_2  channel_3  channel_4  channel_5  \\\n",
       "0        0.0        0.0        0.0        0.0        0.0        0.0   \n",
       "1        0.0        0.0        0.0        0.0        0.0        0.0   \n",
       "2        0.0        0.0        0.0        0.0        0.0        0.0   \n",
       "3        0.0        0.0        0.0        0.0        0.0        0.0   \n",
       "4        0.0        0.0        0.0        0.0        0.0        0.0   \n",
       "\n",
       "   channel_6  channel_7  channel_8  channel_9      ...       channel_239  \\\n",
       "0        0.0        0.0        0.0        0.0      ...               0.0   \n",
       "1        0.0        0.0        0.0        0.0      ...               0.0   \n",
       "2        0.0        0.0        0.0        0.0      ...               0.0   \n",
       "3        0.0        0.0        0.0        0.0      ...               0.0   \n",
       "4        0.0        0.0        0.0        0.0      ...               0.0   \n",
       "\n",
       "   channel_240  channel_241  channel_242  channel_243  channel_244  \\\n",
       "0          0.0          0.0          0.0          0.0          0.0   \n",
       "1          0.0          0.0          0.0          0.0          0.0   \n",
       "2          0.0          0.0          0.0          0.0          0.0   \n",
       "3          0.0          0.0          0.0          0.0          0.0   \n",
       "4          0.0          0.0          0.0          0.0          0.0   \n",
       "\n",
       "   channel_245  channel_246  channel_247  event_number  \n",
       "0          0.0          0.0          0.0             0  \n",
       "1          0.0          0.0          0.0             0  \n",
       "2          0.0          0.0          0.0             0  \n",
       "3          0.0          0.0          0.0             0  \n",
       "4          0.0          0.0          0.0             0  \n",
       "\n",
       "[5 rows x 249 columns]"
      ]
     },
     "execution_count": 16,
     "metadata": {},
     "output_type": "execute_result"
    }
   ],
   "source": [
    "# Concat all dataframes\n",
    "events_concat = pd.concat(events)\n",
    "waveforms_in_channels_concat = pd.concat(waveforms_in_channels)\n",
    "event_truths_concat = pd.concat(event_truths)\n",
    "\n",
    "waveforms_in_channels_concat.head()"
   ]
  },
  {
   "cell_type": "code",
   "execution_count": 17,
   "metadata": {
    "collapsed": false
   },
   "outputs": [
    {
     "data": {
      "image/png": "[encoded data removed]",
      "text/plain": [
       "<matplotlib.figure.Figure at 0x7f2954111ef0>"
      ]
     },
     "metadata": {},
     "output_type": "display_data"
    }
   ],
   "source": [
    "### Plot of waveforms for each pmt summed up\n",
    "\n",
    "sum_waveforms = waveforms_in_channels[0].drop(\"event_number\", axis=1).sum(axis=1)\n",
    "\n",
    "fig = plt.figure(figsize=(14,6))\n",
    "ax = plt.subplot(111)\n",
    "p1 = ax.plot(sum_waveforms.index, sum_waveforms)\n",
    "ax.set_xlabel(\"Time [ns]\", size=14)\n",
    "ax.set_ylabel(\"ADC counts\", size=14)\n",
    "plt.tight_layout()\n",
    "# fig.savefig(\"recon_waveform_example.png\", dpi=240)"
   ]
  }
 ],
 "metadata": {
  "anaconda-cloud": {},
  "kernelspec": {
   "display_name": "Python [conda env:pax_v6.8.2]",
   "language": "python",
   "name": "conda-env-pax_v6.8.2-py"
  },
  "language_info": {
   "codemirror_mode": {
    "name": "ipython",
    "version": 3
   },
   "file_extension": ".py",
   "mimetype": "text/x-python",
   "name": "python",
   "nbconvert_exporter": "python",
   "pygments_lexer": "ipython3",
   "version": "3.4.4"
  }
 },
 "nbformat": 4,
 "nbformat_minor": 2
}
