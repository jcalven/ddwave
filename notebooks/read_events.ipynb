{
 "cells": [
  {
   "cell_type": "code",
   "execution_count": 1,
   "metadata": {},
   "outputs": [],
   "source": [
    "%load_ext autoreload\n",
    "%autoreload 2\n",
    "\n",
    "%matplotlib inline\n",
    "import sys\n",
    "import os.path\n",
    "import matplotlib.pyplot as plt\n",
    "import matplotlib as mpl\n",
    "#mpl.style.use('v2.0')\n",
    "plt.style.use('ggplot')\n",
    "\n",
    "import numpy as np\n",
    "import pandas as pd\n",
    "from tqdm import tqdm\n",
    "\n",
    "#import os, sys\n",
    "sys.path.append(os.path.dirname(\"../\"))\n",
    "sys.path.append(os.path.dirname(\"../../\"))\n",
    "\n",
    "from plugins.FaxDistiller import Distill"
   ]
  },
  {
   "cell_type": "code",
   "execution_count": 74,
   "metadata": {},
   "outputs": [],
   "source": [
    "#from mltools.tfrio import TFRecordsIO"
   ]
  },
  {
   "cell_type": "code",
   "execution_count": 75,
   "metadata": {
    "collapsed": true
   },
   "outputs": [],
   "source": [
    "raw_file = \"../data/FakeWaveform_raw/XENON1T-0-000000000-000000999-000001000.zip\"\n",
    "truth_file = \"../data/FakeWaveform_truth.csv\"\n",
    "instructions_file = \"../data/FakeWaveform.csv\"\n",
    "\n",
    "data_path = \"/cfs/klemming/nobackup/j/jcalven/wavenet_data/\""
   ]
  },
  {
   "cell_type": "markdown",
   "metadata": {},
   "source": [
    "### Load FAX raw data and distill down into useful parts"
   ]
  },
  {
   "cell_type": "code",
   "execution_count": 76,
   "metadata": {},
   "outputs": [],
   "source": [
    "distiller = Distill(raw_file, truth_file, instructions_file)\n",
    "#distiller.load(pulse_properties=True)"
   ]
  },
  {
   "cell_type": "code",
   "execution_count": 84,
   "metadata": {},
   "outputs": [
    {
     "data": {
      "text/html": [
       "<div>\n",
       "<style>\n",
       "    .dataframe thead tr:only-child th {\n",
       "        text-align: right;\n",
       "    }\n",
       "\n",
       "    .dataframe thead th {\n",
       "        text-align: left;\n",
       "    }\n",
       "\n",
       "    .dataframe tbody tr th {\n",
       "        vertical-align: top;\n",
       "    }\n",
       "</style>\n",
       "<table border=\"1\" class=\"dataframe\">\n",
       "  <thead>\n",
       "    <tr style=\"text-align: right;\">\n",
       "      <th></th>\n",
       "      <th>baseline</th>\n",
       "      <th>channel</th>\n",
       "      <th>event_number</th>\n",
       "      <th>left</th>\n",
       "      <th>length</th>\n",
       "      <th>max_waveform_length</th>\n",
       "      <th>right</th>\n",
       "      <th>waveform</th>\n",
       "    </tr>\n",
       "  </thead>\n",
       "  <tbody>\n",
       "    <tr>\n",
       "      <th>0</th>\n",
       "      <td>-3.382979</td>\n",
       "      <td>0</td>\n",
       "      <td>0</td>\n",
       "      <td>82764</td>\n",
       "      <td>158</td>\n",
       "      <td>158</td>\n",
       "      <td>82921</td>\n",
       "      <td>[1.3829787234, -2.6170212766, 5.3829787234, -2...</td>\n",
       "    </tr>\n",
       "    <tr>\n",
       "      <th>1</th>\n",
       "      <td>-2.361702</td>\n",
       "      <td>2</td>\n",
       "      <td>0</td>\n",
       "      <td>82646</td>\n",
       "      <td>284</td>\n",
       "      <td>284</td>\n",
       "      <td>82929</td>\n",
       "      <td>[3.36170212766, 1.36170212766, -0.63829787234,...</td>\n",
       "    </tr>\n",
       "    <tr>\n",
       "      <th>2</th>\n",
       "      <td>0.106383</td>\n",
       "      <td>3</td>\n",
       "      <td>0</td>\n",
       "      <td>82738</td>\n",
       "      <td>130</td>\n",
       "      <td>130</td>\n",
       "      <td>82867</td>\n",
       "      <td>[-1.10638297872, 0.893617021277, -2.1063829787...</td>\n",
       "    </tr>\n",
       "    <tr>\n",
       "      <th>3</th>\n",
       "      <td>-7.063830</td>\n",
       "      <td>4</td>\n",
       "      <td>0</td>\n",
       "      <td>82698</td>\n",
       "      <td>198</td>\n",
       "      <td>198</td>\n",
       "      <td>82895</td>\n",
       "      <td>[1.06382978723, 5.06382978723, -0.936170212766...</td>\n",
       "    </tr>\n",
       "    <tr>\n",
       "      <th>4</th>\n",
       "      <td>-5.127660</td>\n",
       "      <td>5</td>\n",
       "      <td>0</td>\n",
       "      <td>72794</td>\n",
       "      <td>100</td>\n",
       "      <td>100</td>\n",
       "      <td>72893</td>\n",
       "      <td>[3.12765957447, 3.12765957447, 0.127659574468,...</td>\n",
       "    </tr>\n",
       "  </tbody>\n",
       "</table>\n",
       "</div>"
      ],
      "text/plain": [
       "   baseline  channel  event_number   left  length  max_waveform_length  right  \\\n",
       "0 -3.382979        0             0  82764     158                  158  82921   \n",
       "1 -2.361702        2             0  82646     284                  284  82929   \n",
       "2  0.106383        3             0  82738     130                  130  82867   \n",
       "3 -7.063830        4             0  82698     198                  198  82895   \n",
       "4 -5.127660        5             0  72794     100                  100  72893   \n",
       "\n",
       "                                            waveform  \n",
       "0  [1.3829787234, -2.6170212766, 5.3829787234, -2...  \n",
       "1  [3.36170212766, 1.36170212766, -0.63829787234,...  \n",
       "2  [-1.10638297872, 0.893617021277, -2.1063829787...  \n",
       "3  [1.06382978723, 5.06382978723, -0.936170212766...  \n",
       "4  [3.12765957447, 3.12765957447, 0.127659574468,...  "
      ]
     },
     "execution_count": 84,
     "metadata": {},
     "output_type": "execute_result"
    }
   ],
   "source": [
    "### Distill.get() returns iterator of distilled data for the event (objects of the Condensate() class)\n",
    "event = distiller.get_test(1).__next__()\n",
    "event = distiller.get_test(2).__next__()\n",
    "event.get_event().head()"
   ]
  },
  {
   "cell_type": "code",
   "execution_count": 91,
   "metadata": {},
   "outputs": [
    {
     "name": "stderr",
     "output_type": "stream",
     "text": [
      "101it [00:05, 19.69it/s]\n"
     ]
    }
   ],
   "source": [
    "events = []\n",
    "waveforms_in_channels = []\n",
    "event_truths = []\n",
    "event_instructions = []\n",
    "\n",
    "n_events = 1000\n",
    "counter = 1\n",
    "\n",
    "for i, distilled_events in tqdm(enumerate(distiller.get_test(n_events))):\n",
    "    \n",
    "    #events.append(distilled_events.get_event())  # Retrieve pandas.DataFrame of event information\n",
    "    waveforms_in_channels.append(distilled_events.get_waveforms_in_channels())  # Retrieve pandas.DataFrame \n",
    "                                                                                # of per channel reconstructed \n",
    "                                                                                # waveforms in the event\n",
    "    event_truths.append(distilled_events.get_event_truth())  # Retrieve pandas.DataFrame of PAX truth information for event\n",
    "    event_instructions.append(distilled_events.get_event_instructions())"
   ]
  },
  {
   "cell_type": "markdown",
   "metadata": {},
   "source": [
    "### The way to retrieve distilled data"
   ]
  },
  {
   "cell_type": "code",
   "execution_count": 17,
   "metadata": {},
   "outputs": [
    {
     "data": {
      "text/html": [
       "<div>\n",
       "<style>\n",
       "    .dataframe thead tr:only-child th {\n",
       "        text-align: right;\n",
       "    }\n",
       "\n",
       "    .dataframe thead th {\n",
       "        text-align: left;\n",
       "    }\n",
       "\n",
       "    .dataframe tbody tr th {\n",
       "        vertical-align: top;\n",
       "    }\n",
       "</style>\n",
       "<table border=\"1\" class=\"dataframe\">\n",
       "  <thead>\n",
       "    <tr style=\"text-align: right;\">\n",
       "      <th></th>\n",
       "      <th>baseline</th>\n",
       "      <th>channel</th>\n",
       "      <th>event_number</th>\n",
       "      <th>left</th>\n",
       "      <th>length</th>\n",
       "      <th>max_waveform_length</th>\n",
       "      <th>right</th>\n",
       "      <th>waveform</th>\n",
       "    </tr>\n",
       "  </thead>\n",
       "  <tbody>\n",
       "    <tr>\n",
       "      <th>0</th>\n",
       "      <td>-3.382979</td>\n",
       "      <td>0</td>\n",
       "      <td>0</td>\n",
       "      <td>82764</td>\n",
       "      <td>158</td>\n",
       "      <td>158</td>\n",
       "      <td>82921</td>\n",
       "      <td>[1.3829787234, -2.6170212766, 5.3829787234, -2...</td>\n",
       "    </tr>\n",
       "    <tr>\n",
       "      <th>1</th>\n",
       "      <td>-2.361702</td>\n",
       "      <td>2</td>\n",
       "      <td>0</td>\n",
       "      <td>82646</td>\n",
       "      <td>284</td>\n",
       "      <td>284</td>\n",
       "      <td>82929</td>\n",
       "      <td>[3.36170212766, 1.36170212766, -0.63829787234,...</td>\n",
       "    </tr>\n",
       "    <tr>\n",
       "      <th>2</th>\n",
       "      <td>0.106383</td>\n",
       "      <td>3</td>\n",
       "      <td>0</td>\n",
       "      <td>82738</td>\n",
       "      <td>130</td>\n",
       "      <td>130</td>\n",
       "      <td>82867</td>\n",
       "      <td>[-1.10638297872, 0.893617021277, -2.1063829787...</td>\n",
       "    </tr>\n",
       "    <tr>\n",
       "      <th>3</th>\n",
       "      <td>-7.063830</td>\n",
       "      <td>4</td>\n",
       "      <td>0</td>\n",
       "      <td>82698</td>\n",
       "      <td>198</td>\n",
       "      <td>198</td>\n",
       "      <td>82895</td>\n",
       "      <td>[1.06382978723, 5.06382978723, -0.936170212766...</td>\n",
       "    </tr>\n",
       "    <tr>\n",
       "      <th>4</th>\n",
       "      <td>-5.127660</td>\n",
       "      <td>5</td>\n",
       "      <td>0</td>\n",
       "      <td>72794</td>\n",
       "      <td>100</td>\n",
       "      <td>100</td>\n",
       "      <td>72893</td>\n",
       "      <td>[3.12765957447, 3.12765957447, 0.127659574468,...</td>\n",
       "    </tr>\n",
       "  </tbody>\n",
       "</table>\n",
       "</div>"
      ],
      "text/plain": [
       "   baseline  channel  event_number   left  length  max_waveform_length  right  \\\n",
       "0 -3.382979        0             0  82764     158                  158  82921   \n",
       "1 -2.361702        2             0  82646     284                  284  82929   \n",
       "2  0.106383        3             0  82738     130                  130  82867   \n",
       "3 -7.063830        4             0  82698     198                  198  82895   \n",
       "4 -5.127660        5             0  72794     100                  100  72893   \n",
       "\n",
       "                                            waveform  \n",
       "0  [1.3829787234, -2.6170212766, 5.3829787234, -2...  \n",
       "1  [3.36170212766, 1.36170212766, -0.63829787234,...  \n",
       "2  [-1.10638297872, 0.893617021277, -2.1063829787...  \n",
       "3  [1.06382978723, 5.06382978723, -0.936170212766...  \n",
       "4  [3.12765957447, 3.12765957447, 0.127659574468,...  "
      ]
     },
     "execution_count": 17,
     "metadata": {},
     "output_type": "execute_result"
    }
   ],
   "source": [
    "### Distill.get() returns iterator of distilled data for the event (objects of the Condensate() class)\n",
    "event = distiller.get(1).__next__()\n",
    "event.get_event().head()"
   ]
  },
  {
   "cell_type": "code",
   "execution_count": 6,
   "metadata": {},
   "outputs": [
    {
     "name": "stdout",
     "output_type": "stream",
     "text": [
      "\n",
      "        Class of distilled FAX events.\n",
      "        \n",
      "        Methods:\n",
      "            : get_events() : Returns pandas.DataFrame with core information on pulses in the event.\n",
      "            : get_waveforms_in_channel() : Returns pandas.DataFrame with reconstructed waveforms per\n",
      "                                           channel (pmt) for the event.\n",
      "            : get_event_truth() : Returns pandas.DataFrame with FAX truth information on the event\n",
      "    \n"
     ]
    }
   ],
   "source": [
    "print(event.__doc__)"
   ]
  },
  {
   "cell_type": "code",
   "execution_count": 7,
   "metadata": {
    "collapsed": true
   },
   "outputs": [],
   "source": [
    "def format_event_data(waveforms, instructions):\n",
    "    \n",
    "    return dict(data = waveforms.values.astype(int),\n",
    "                x = instructions[\"x\"].values[0],\n",
    "                y = instructions[\"y\"].values[0],\n",
    "                depth = instructions[\"depth\"].values[0],\n",
    "                s1_photons = instructions[\"s1_photons\"].values[0],\n",
    "                s2_electrons = instructions[\"s2_electrons\"].values[0],\n",
    "                event_number = instructions[\"instruction\"].values[0])"
   ]
  },
  {
   "cell_type": "markdown",
   "metadata": {},
   "source": [
    "### Loop over events and store distilled data for each event"
   ]
  },
  {
   "cell_type": "code",
   "execution_count": 9,
   "metadata": {
    "scrolled": false
   },
   "outputs": [
    {
     "name": "stderr",
     "output_type": "stream",
     "text": [
      "100it [00:04, 24.30it/s]\n"
     ]
    }
   ],
   "source": [
    "events = []\n",
    "waveforms_in_channels = []\n",
    "event_truths = []\n",
    "event_instructions = []\n",
    "\n",
    "save_to_dir = \"/cfs/klemming/nobackup/j/jcalven/wavenet_data/\"\n",
    "fax_file = \"XENON1T-0-000000000-000000999-000001000\"\n",
    "\n",
    "n_events = 100\n",
    "counter = 1\n",
    "\n",
    "#tfr_io = TFRecordsIO()\n",
    "#tfr_io.open_tfwriter_stream(filename=data_path + fax_file + \"_{}_events.tfr\".format(n_events))\n",
    "\n",
    "for i, distilled_events in tqdm(enumerate(distiller.get(n_events))):\n",
    "    \n",
    "    events.append(distilled_events.get_event())  # Retrieve pandas.DataFrame of event information\n",
    "    waveforms_in_channels.append(distilled_events.get_waveforms_in_channels())  # Retrieve pandas.DataFrame \n",
    "                                                                                # of per channel reconstructed \n",
    "                                                                                # waveforms in the event\n",
    "    event_truths.append(distilled_events.get_event_truth())  # Retrieve pandas.DataFrame of PAX truth information for event\n",
    "    event_instructions.append(distilled_events.get_event_instructions())\n",
    "    \n",
    "    #waveforms_in_channels = distilled_events.get_waveforms_in_channels()\n",
    "    #event_instructions = distilled_events.get_event_instructions()\n",
    "    \n",
    "    # Preprocess the data for feeding to TFRecords\n",
    "    #event_data = format_event_data(waveforms_in_channels, event_instructions)\n",
    "    \n",
    "    # Write data to TFRecords files\n",
    "    #tfr_io.write(filename=data_path + \"test_10_events.tfr\", **event_data)\n",
    "    #tfr_io.write(**event_data)\n",
    "    \n",
    "    #df = pd.read_pickle(filename)\n",
    "    #key = os.path.basename(filename) # or choose another name\n",
    "    #if i+1%100 == 0 or i == 0:\n",
    "    #    print(\"Writing to hdf file {}...\".format(counter))\n",
    "    #    file_it = 100 * counter\n",
    "    #    output_filename = save_to_dir + fax_file + \"_\" + str(file_it) + \".h5\"\n",
    "    #    counter += 1\n",
    "    #waveforms_in_channels.to_hdf(output_filename, \"waveforms_{}\".format(i))\n",
    "    #event_instructions.to_hdf(output_filename, \"instructions_{}\".format(i))\n",
    "    \n",
    "#tfr_io.close_tfwriter_stream()"
   ]
  },
  {
   "cell_type": "code",
   "execution_count": 11,
   "metadata": {},
   "outputs": [
    {
     "data": {
      "text/html": [
       "<div>\n",
       "<style>\n",
       "    .dataframe thead tr:only-child th {\n",
       "        text-align: right;\n",
       "    }\n",
       "\n",
       "    .dataframe thead th {\n",
       "        text-align: left;\n",
       "    }\n",
       "\n",
       "    .dataframe tbody tr th {\n",
       "        vertical-align: top;\n",
       "    }\n",
       "</style>\n",
       "<table border=\"1\" class=\"dataframe\">\n",
       "  <thead>\n",
       "    <tr style=\"text-align: right;\">\n",
       "      <th></th>\n",
       "      <th>fax_truth_peak_id</th>\n",
       "      <th>event</th>\n",
       "      <th>g4_id</th>\n",
       "      <th>instruction</th>\n",
       "      <th>n_electrons</th>\n",
       "      <th>n_photons</th>\n",
       "      <th>peak_type</th>\n",
       "      <th>repetition</th>\n",
       "      <th>t_first_electron</th>\n",
       "      <th>t_first_photon</th>\n",
       "      <th>...</th>\n",
       "      <th>t_last_electron</th>\n",
       "      <th>t_last_photon</th>\n",
       "      <th>t_mean_electrons</th>\n",
       "      <th>t_mean_photons</th>\n",
       "      <th>t_sigma_electrons</th>\n",
       "      <th>t_sigma_photons</th>\n",
       "      <th>top_fraction</th>\n",
       "      <th>x</th>\n",
       "      <th>y</th>\n",
       "      <th>z</th>\n",
       "    </tr>\n",
       "  </thead>\n",
       "  <tbody>\n",
       "    <tr>\n",
       "      <th>0</th>\n",
       "      <td>0</td>\n",
       "      <td>0</td>\n",
       "      <td>-1</td>\n",
       "      <td>0</td>\n",
       "      <td>16.0</td>\n",
       "      <td>379</td>\n",
       "      <td>s2</td>\n",
       "      <td>0</td>\n",
       "      <td>826638.620366</td>\n",
       "      <td>8.267593e+05</td>\n",
       "      <td>...</td>\n",
       "      <td>828324.404529</td>\n",
       "      <td>8.290946e+05</td>\n",
       "      <td>827641.784142</td>\n",
       "      <td>8.279530e+05</td>\n",
       "      <td>404.286682</td>\n",
       "      <td>410.426691</td>\n",
       "      <td>0.675462</td>\n",
       "      <td>4.517730</td>\n",
       "      <td>27.061374</td>\n",
       "      <td>-24.814994</td>\n",
       "    </tr>\n",
       "    <tr>\n",
       "      <th>1</th>\n",
       "      <td>1</td>\n",
       "      <td>0</td>\n",
       "      <td>-1</td>\n",
       "      <td>0</td>\n",
       "      <td>NaN</td>\n",
       "      <td>16</td>\n",
       "      <td>photoionization_afterpulse</td>\n",
       "      <td>0</td>\n",
       "      <td>NaN</td>\n",
       "      <td>1.390559e+06</td>\n",
       "      <td>...</td>\n",
       "      <td>NaN</td>\n",
       "      <td>1.391185e+06</td>\n",
       "      <td>NaN</td>\n",
       "      <td>1.390809e+06</td>\n",
       "      <td>NaN</td>\n",
       "      <td>165.495422</td>\n",
       "      <td>0.625000</td>\n",
       "      <td>-46.204034</td>\n",
       "      <td>2.173650</td>\n",
       "      <td>-0.500000</td>\n",
       "    </tr>\n",
       "    <tr>\n",
       "      <th>2</th>\n",
       "      <td>2</td>\n",
       "      <td>0</td>\n",
       "      <td>-1</td>\n",
       "      <td>0</td>\n",
       "      <td>NaN</td>\n",
       "      <td>25</td>\n",
       "      <td>photoionization_afterpulse</td>\n",
       "      <td>0</td>\n",
       "      <td>NaN</td>\n",
       "      <td>1.036173e+06</td>\n",
       "      <td>...</td>\n",
       "      <td>NaN</td>\n",
       "      <td>1.036733e+06</td>\n",
       "      <td>NaN</td>\n",
       "      <td>1.036475e+06</td>\n",
       "      <td>NaN</td>\n",
       "      <td>146.108306</td>\n",
       "      <td>0.760000</td>\n",
       "      <td>-28.172135</td>\n",
       "      <td>23.369638</td>\n",
       "      <td>-0.500000</td>\n",
       "    </tr>\n",
       "    <tr>\n",
       "      <th>3</th>\n",
       "      <td>3</td>\n",
       "      <td>0</td>\n",
       "      <td>-1</td>\n",
       "      <td>0</td>\n",
       "      <td>NaN</td>\n",
       "      <td>15</td>\n",
       "      <td>photoionization_afterpulse</td>\n",
       "      <td>0</td>\n",
       "      <td>NaN</td>\n",
       "      <td>8.490969e+05</td>\n",
       "      <td>...</td>\n",
       "      <td>NaN</td>\n",
       "      <td>8.494908e+05</td>\n",
       "      <td>NaN</td>\n",
       "      <td>8.492659e+05</td>\n",
       "      <td>NaN</td>\n",
       "      <td>113.777219</td>\n",
       "      <td>0.466667</td>\n",
       "      <td>-4.167860</td>\n",
       "      <td>27.947109</td>\n",
       "      <td>-0.500000</td>\n",
       "    </tr>\n",
       "    <tr>\n",
       "      <th>4</th>\n",
       "      <td>4</td>\n",
       "      <td>0</td>\n",
       "      <td>-1</td>\n",
       "      <td>0</td>\n",
       "      <td>NaN</td>\n",
       "      <td>26</td>\n",
       "      <td>photoionization_afterpulse</td>\n",
       "      <td>0</td>\n",
       "      <td>NaN</td>\n",
       "      <td>8.420800e+05</td>\n",
       "      <td>...</td>\n",
       "      <td>NaN</td>\n",
       "      <td>8.428152e+05</td>\n",
       "      <td>NaN</td>\n",
       "      <td>8.423495e+05</td>\n",
       "      <td>NaN</td>\n",
       "      <td>167.032715</td>\n",
       "      <td>0.846154</td>\n",
       "      <td>44.117512</td>\n",
       "      <td>15.064367</td>\n",
       "      <td>-0.500000</td>\n",
       "    </tr>\n",
       "  </tbody>\n",
       "</table>\n",
       "<p>5 rows × 21 columns</p>\n",
       "</div>"
      ],
      "text/plain": [
       "   fax_truth_peak_id  event  g4_id  instruction  n_electrons  n_photons  \\\n",
       "0                  0      0     -1            0         16.0        379   \n",
       "1                  1      0     -1            0          NaN         16   \n",
       "2                  2      0     -1            0          NaN         25   \n",
       "3                  3      0     -1            0          NaN         15   \n",
       "4                  4      0     -1            0          NaN         26   \n",
       "\n",
       "                    peak_type  repetition  t_first_electron  t_first_photon  \\\n",
       "0                          s2           0     826638.620366    8.267593e+05   \n",
       "1  photoionization_afterpulse           0               NaN    1.390559e+06   \n",
       "2  photoionization_afterpulse           0               NaN    1.036173e+06   \n",
       "3  photoionization_afterpulse           0               NaN    8.490969e+05   \n",
       "4  photoionization_afterpulse           0               NaN    8.420800e+05   \n",
       "\n",
       "     ...      t_last_electron  t_last_photon  t_mean_electrons  \\\n",
       "0    ...        828324.404529   8.290946e+05     827641.784142   \n",
       "1    ...                  NaN   1.391185e+06               NaN   \n",
       "2    ...                  NaN   1.036733e+06               NaN   \n",
       "3    ...                  NaN   8.494908e+05               NaN   \n",
       "4    ...                  NaN   8.428152e+05               NaN   \n",
       "\n",
       "   t_mean_photons  t_sigma_electrons  t_sigma_photons  top_fraction  \\\n",
       "0    8.279530e+05         404.286682       410.426691      0.675462   \n",
       "1    1.390809e+06                NaN       165.495422      0.625000   \n",
       "2    1.036475e+06                NaN       146.108306      0.760000   \n",
       "3    8.492659e+05                NaN       113.777219      0.466667   \n",
       "4    8.423495e+05                NaN       167.032715      0.846154   \n",
       "\n",
       "           x          y          z  \n",
       "0   4.517730  27.061374 -24.814994  \n",
       "1 -46.204034   2.173650  -0.500000  \n",
       "2 -28.172135  23.369638  -0.500000  \n",
       "3  -4.167860  27.947109  -0.500000  \n",
       "4  44.117512  15.064367  -0.500000  \n",
       "\n",
       "[5 rows x 21 columns]"
      ]
     },
     "execution_count": 11,
     "metadata": {},
     "output_type": "execute_result"
    }
   ],
   "source": [
    "event_truths[0]"
   ]
  },
  {
   "cell_type": "code",
   "execution_count": 12,
   "metadata": {},
   "outputs": [
    {
     "data": {
      "text/html": [
       "<div>\n",
       "<style>\n",
       "    .dataframe thead tr:only-child th {\n",
       "        text-align: right;\n",
       "    }\n",
       "\n",
       "    .dataframe thead th {\n",
       "        text-align: left;\n",
       "    }\n",
       "\n",
       "    .dataframe tbody tr th {\n",
       "        vertical-align: top;\n",
       "    }\n",
       "</style>\n",
       "<table border=\"1\" class=\"dataframe\">\n",
       "  <thead>\n",
       "    <tr style=\"text-align: right;\">\n",
       "      <th></th>\n",
       "      <th>instruction</th>\n",
       "      <th>recoil_type</th>\n",
       "      <th>x</th>\n",
       "      <th>y</th>\n",
       "      <th>depth</th>\n",
       "      <th>s1_photons</th>\n",
       "      <th>s2_electrons</th>\n",
       "      <th>t</th>\n",
       "    </tr>\n",
       "  </thead>\n",
       "  <tbody>\n",
       "    <tr>\n",
       "      <th>0</th>\n",
       "      <td>0</td>\n",
       "      <td>ER</td>\n",
       "      <td>4.628629</td>\n",
       "      <td>27.725661</td>\n",
       "      <td>24.814994</td>\n",
       "      <td>5</td>\n",
       "      <td>20</td>\n",
       "      <td>650000.0</td>\n",
       "    </tr>\n",
       "  </tbody>\n",
       "</table>\n",
       "</div>"
      ],
      "text/plain": [
       "   instruction recoil_type         x          y      depth  s1_photons  \\\n",
       "0            0          ER  4.628629  27.725661  24.814994           5   \n",
       "\n",
       "   s2_electrons         t  \n",
       "0            20  650000.0  "
      ]
     },
     "execution_count": 12,
     "metadata": {},
     "output_type": "execute_result"
    }
   ],
   "source": [
    "event_instructions[0]"
   ]
  },
  {
   "cell_type": "code",
   "execution_count": 13,
   "metadata": {
    "collapsed": true
   },
   "outputs": [],
   "source": [
    "#for i in range(5):\n",
    "#    waveforms_in_channels[i].to_pickle(\n",
    "#        \"/cfs/klemming/nobackup/j/jcalven/wavenet_data/test_{}.pkl\".format(i))"
   ]
  },
  {
   "cell_type": "code",
   "execution_count": null,
   "metadata": {
    "collapsed": true
   },
   "outputs": [],
   "source": [
    "wf_array = waveforms_in_channels[0].values\n",
    "#wf_array = wf_array[15600:15700,:]# 120:130]\n",
    "wf_array_flat = wf_array.flatten()"
   ]
  },
  {
   "cell_type": "code",
   "execution_count": null,
   "metadata": {
    "collapsed": true
   },
   "outputs": [],
   "source": [
    "wf_array.flatten().shape"
   ]
  },
  {
   "cell_type": "code",
   "execution_count": null,
   "metadata": {
    "collapsed": true
   },
   "outputs": [],
   "source": [
    "np.allclose(wf_array, wf_array.reshape(wf_array.shape))"
   ]
  },
  {
   "cell_type": "code",
   "execution_count": null,
   "metadata": {
    "collapsed": true
   },
   "outputs": [],
   "source": [
    "wf_array"
   ]
  },
  {
   "cell_type": "code",
   "execution_count": null,
   "metadata": {
    "collapsed": true
   },
   "outputs": [],
   "source": [
    "wf_array.shape"
   ]
  },
  {
   "cell_type": "code",
   "execution_count": null,
   "metadata": {
    "collapsed": true
   },
   "outputs": [],
   "source": [
    "wf_array.max()"
   ]
  },
  {
   "cell_type": "code",
   "execution_count": null,
   "metadata": {
    "collapsed": true
   },
   "outputs": [],
   "source": [
    "z_min, z_max = wf_array.min(), np.abs(wf_array).max()\n",
    "print(z_min, z_max)\n",
    "\n",
    "fig = plt.figure()#figsize=(20,5))\n",
    "plt.pcolormesh(wf_array, vmin=z_min, vmax=z_max)"
   ]
  },
  {
   "cell_type": "code",
   "execution_count": null,
   "metadata": {
    "collapsed": true
   },
   "outputs": [],
   "source": [
    "# Concat all dataframes\n",
    "#events_concat = pd.concat(events)\n",
    "waveforms_in_channels_concat = pd.concat(waveforms_in_channels)\n",
    "#event_truths_concat = pd.concat(event_truths)\n",
    "\n",
    "#waveforms_in_channels_concat.head()"
   ]
  },
  {
   "cell_type": "code",
   "execution_count": 14,
   "metadata": {},
   "outputs": [
    {
     "data": {
      "image/png": "[encoded data removed]",
      "text/plain": [
       "<matplotlib.figure.Figure at 0x7fa5e4b02ba8>"
      ]
     },
     "metadata": {},
     "output_type": "display_data"
    }
   ],
   "source": [
    "### Plot of waveforms for each pmt summed up\n",
    "\n",
    "sum_waveforms = waveforms_in_channels[0].drop(\"event_number\", axis=1).sum(axis=1)\n",
    "\n",
    "fig = plt.figure(figsize=(14,6))\n",
    "ax = plt.subplot(111)\n",
    "p1 = ax.plot(sum_waveforms.index, sum_waveforms)\n",
    "ax.set_xlabel(\"Time [ns]\", size=14)\n",
    "ax.set_ylabel(\"ADC counts\", size=14)\n",
    "plt.tight_layout()\n",
    "# fig.savefig(\"recon_waveform_example.png\", dpi=240)"
   ]
  },
  {
   "cell_type": "code",
   "execution_count": 16,
   "metadata": {},
   "outputs": [
    {
     "data": {
      "text/plain": [
       "Index(['baseline', 'channel', 'event_number', 'left', 'length',\n",
       "       'max_waveform_length', 'right', 'waveform'],\n",
       "      dtype='object')"
      ]
     },
     "execution_count": 16,
     "metadata": {},
     "output_type": "execute_result"
    }
   ],
   "source": [
    "event = events[0]\n",
    "event.columns"
   ]
  },
  {
   "cell_type": "code",
   "execution_count": null,
   "metadata": {
    "collapsed": true
   },
   "outputs": [],
   "source": []
  },
  {
   "cell_type": "code",
   "execution_count": null,
   "metadata": {
    "collapsed": true
   },
   "outputs": [],
   "source": []
  },
  {
   "cell_type": "code",
   "execution_count": null,
   "metadata": {
    "collapsed": true
   },
   "outputs": [],
   "source": [
    "len(waveforms_in_channels[0].columns)"
   ]
  },
  {
   "cell_type": "code",
   "execution_count": null,
   "metadata": {
    "collapsed": true
   },
   "outputs": [],
   "source": [
    "dfc.empty()"
   ]
  },
  {
   "cell_type": "code",
   "execution_count": null,
   "metadata": {
    "collapsed": true
   },
   "outputs": [],
   "source": [
    "maxlist = []\n",
    "for wf in waveforms_in_channels:\n",
    "    df = wf[wf > 0.] #waveforms_in_channels[0]\n",
    "    #df = df[df > 0.]\n",
    "    for i, channel in enumerate(df):\n",
    "        dfc = df[channel].dropna()\n",
    "        if not dfc.empty:\n",
    "            maxlist.append(dfc.max())\n",
    "\n",
    "max(maxlist)\n",
    "\n",
    "\n",
    "    #df = waveforms_in_channels[0][channel]#[\"channel_5\"]\n",
    "    #df.dropna(inplace=True)\n",
    "    #df = \n",
    "    #print(df.loc[df > 0.].max())\n",
    "    #max_counts[i] = df.loc[df > 0.].max()\n",
    "    #print(df.loc[df > 0.].max())\n",
    "\n",
    "#pd.Series(max_counts).dropna().max()\n",
    "#df[df > 0.][\"channel_0\"].dropna()\n",
    "#df.loc[df > 0.]"
   ]
  },
  {
   "cell_type": "code",
   "execution_count": null,
   "metadata": {
    "collapsed": true
   },
   "outputs": [],
   "source": [
    "len(maxlist)"
   ]
  },
  {
   "cell_type": "code",
   "execution_count": null,
   "metadata": {
    "collapsed": true,
    "scrolled": false
   },
   "outputs": [],
   "source": [
    "max_counts = np.zeros(len(waveforms_in_channels[0].columns))\n",
    "for i, channel in enumerate(waveforms_in_channels[0]):\n",
    "    df = waveforms_in_channels[0][channel]#[\"channel_5\"]\n",
    "    df.dropna(inplace=True)\n",
    "    #df = \n",
    "    #print(df.loc[df > 0.].max())\n",
    "    max_counts[i] = df.loc[df > 0.].max()\n",
    "    #print(df.loc[df > 0.].max())\n",
    "\n",
    "pd.Series(max_counts).dropna().max()\n",
    "#df#.hist()\n",
    "#df.max()\n",
    "#df.describe()\n",
    "#df.hist()"
   ]
  },
  {
   "cell_type": "code",
   "execution_count": null,
   "metadata": {
    "collapsed": true
   },
   "outputs": [],
   "source": [
    "df.loc[df > 0.].min()"
   ]
  },
  {
   "cell_type": "code",
   "execution_count": null,
   "metadata": {
    "collapsed": true
   },
   "outputs": [],
   "source": [
    "df.plot()"
   ]
  },
  {
   "cell_type": "code",
   "execution_count": null,
   "metadata": {
    "collapsed": true
   },
   "outputs": [],
   "source": []
  }
 ],
 "metadata": {
  "anaconda-cloud": {},
  "kernelspec": {
   "display_name": "Python [conda env:ml_pax]",
   "language": "python",
   "name": "conda-env-ml_pax-py"
  },
  "language_info": {
   "codemirror_mode": {
    "name": "ipython",
    "version": 3
   },
   "file_extension": ".py",
   "mimetype": "text/x-python",
   "name": "python",
   "nbconvert_exporter": "python",
   "pygments_lexer": "ipython3",
   "version": "3.6.2"
  }
 },
 "nbformat": 4,
 "nbformat_minor": 2
}
